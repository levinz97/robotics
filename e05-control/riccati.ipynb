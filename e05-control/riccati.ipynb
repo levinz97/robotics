{
 "cells": [
  {
   "cell_type": "code",
   "execution_count": 1,
   "metadata": {},
   "outputs": [
    {
     "output_type": "stream",
     "name": "stdout",
     "text": [
      "pygame 2.0.1 (SDL 2.0.14, Python 3.8.10)\nHello from the pygame community. https://www.pygame.org/contribute.html\n"
     ]
    }
   ],
   "source": [
    "import sys\n",
    "\n",
    "import numpy as np\n",
    "import math\n",
    "from scipy.sparse import csr_matrix\n",
    "from numpy import linalg as LA\n",
    "from scipy import linalg as SLA\n",
    "\n",
    "# python3 -m pip install pyopengl\n",
    "from OpenGL.GL import *\n",
    "from OpenGL.GLU import *\n",
    "from OpenGL.GLUT import *\n",
    "\n",
    "# python3 -m pip install pygame\n",
    "import pygame\n",
    "from pygame.locals import *\n",
    "\n",
    "from draw_object import ConfigureEnv"
   ]
  },
  {
   "cell_type": "code",
   "execution_count": 3,
   "metadata": {},
   "outputs": [],
   "source": [
    "class CartPoleState(object):\n",
    "    def __init__(self):   \n",
    "        self.x=0.\n",
    "        self.x1=0.\n",
    "        self.th=.2\n",
    "        self.th1=0. \n",
    "\n",
    "        # init constants\n",
    "        self.tau = 1/60.\n",
    "        Mp = 1\n",
    "        Mc = 1\n",
    "        self.l = 1\n",
    "        self.c1 = 1/(Mp+Mc)\n",
    "        self.c2 = self.l*Mp/(Mp+Mc)\n",
    "        self.g = 9.8\n",
    "        \n",
    "        \"\"\"change the dynamicsNoise here\"\"\"\n",
    "        self.dynamicsNoise = 0.01\n",
    "    \n",
    "    def step(self, u):\n",
    "        the2 = self.g*math.sin(self.th) \\\n",
    "               + math.cos(self.th)*(-self.c1*u-self.c2*self.th1*self.th1*math.sin(self.th))\n",
    "        the2 /= self.l*4/3 - self.c2*math.cos(self.th)*math.cos(self.th)\n",
    "        x2 = self.c1*u + self.c2*(self.th1*self.th1*math.sin(self.th) - the2*math.cos(self.th))\n",
    "        \n",
    "        self.x   = self.x + self.tau*self.x1\n",
    "        self.x1  = self.x1 + self.tau*x2\n",
    "        self.th  = self.th + self.tau*self.th1\n",
    "        self.th1 = self.th1 + self.tau*the2\n",
    "        \n",
    "        if self.dynamicsNoise:\n",
    "            self.x1 += self.dynamicsNoise*np.random.normal(0,1)\n",
    "            self.th1 += self.dynamicsNoise*np.random.normal(0,1)\n"
   ]
  },
  {
   "cell_type": "code",
   "execution_count": 4,
   "metadata": {},
   "outputs": [],
   "source": [
    "def draw_objects(env, x, theta):\n",
    "    # draw guide lines\n",
    "    env.draw_line()  \n",
    "\n",
    "    # cart\n",
    "    glColor3f(1,1,1); \n",
    "    glPushMatrix()\n",
    "    glTranslatef(x, 0., 0.)\n",
    "    env.draw_cube(1., 0.2, 0.2)  \n",
    "    env.draw_line2()\n",
    "    \n",
    "    # pole\n",
    "    glColor3f(1,0,0); \n",
    "    glPushMatrix()\n",
    "    glRotatef(theta*180./math.pi, 0., 1., 0.)\n",
    "    glTranslatef(0, 0., 0.5)\n",
    "    env.draw_cube(0.1, 0.1, 1.)  \n",
    "    \n",
    "    glPopMatrix()\n",
    "    glPopMatrix()\n",
    "    "
   ]
  },
  {
   "cell_type": "code",
   "execution_count": 5,
   "metadata": {},
   "outputs": [],
   "source": [
    "def testMove(s):\n",
    "    \"\"\"implement the controller gains here\"\"\"\n",
    "    # K = np.zeros(4)\n",
    "    # u = K[0]*s.x + K[1]*s.x1 + K[2]*s.th + K[3]*s.th1;\n",
    "    nonzero_A = np.array([1, -s.c2 * s.g/(4/3. - s.c2), s.g/(4/3. - s.c2), 1])\n",
    "    col_A = np.array([1,2,2,3])\n",
    "    row_A = np.array([0,1,3,2])\n",
    "    A = csr_matrix((nonzero_A, (row_A, col_A)),shape=(4,4),dtype=np.float32).toarray()\n",
    "    # print(A)\n",
    "    B = np.array([0,s.c1+s.c1*s.c2/(4/3. - s.c2),0,-s.c1/(4/3. - s.c2)])\n",
    "    B = np.expand_dims(B, axis=-1)\n",
    "    Q = np.diag([1,0,1,0])\n",
    "    R = np.eye(1)\n",
    "    K = -B.transpose()@SLA.solve_continuous_are(A,B,Q,R)\n",
    "\n",
    "    x_ = np.array([s.x, s.x1, s.th, s.th1])\n",
    "    x_ = np.expand_dims(x_, axis=-1)\n",
    "    print(f'shape of K is {K.shape}')\n",
    "    print(f'shape of x_ is {x_.shape}')\n",
    "    # u = K@x_\n",
    "    # print(u)\n",
    "    # u = riccati_numeric() @ x_\n",
    "    u = K[0][0]*s.x + K[0][1]*s.x1 + K[0][2]*s.th + K[0][3]*s.th1\n",
    "    s.step(u)\n",
    "    \n",
    "    # return translation x and rotation theta\n",
    "    return s.x, s.th"
   ]
  },
  {
   "cell_type": "code",
   "execution_count": 6,
   "metadata": {
    "pycharm": {
     "name": "#%%\n"
    }
   },
   "outputs": [
    {
     "output_type": "stream",
     "name": "stdout",
     "text": [
      "(4, 1)\n",
      "(4, 4)\n",
      "[[ 1.00004957  2.60827348 52.9453595  16.59403107]]\n",
      "[[ 1.          2.60879093 52.94837257 16.59517603]]\n",
      "1.000000000000003\n",
      "A = [[ 0.    1.    0.    0.  ]\n",
      " [ 0.    0.   -5.88  0.  ]\n",
      " [ 0.    0.    0.    1.  ]\n",
      " [ 0.    0.   11.76  0.  ]]\n",
      " B = [[ 0. ]\n",
      " [ 0.8]\n",
      " [ 0. ]\n",
      " [-0.6]]\n",
      " A*B = [[ 0.8]\n",
      " [ 0. ]\n",
      " [-0.6]\n",
      " [ 0. ]]\n",
      "[ 0.         0.         3.4292858 -3.4292858]\n",
      "[-3.4288164 +0.09782127j -3.4288164 -0.09782127j -0.50622004+0.49342822j\n",
      " -0.50622004-0.49342822j]\n"
     ]
    },
    {
     "output_type": "execute_result",
     "data": {
      "text/plain": [
       "array([[ 1.        ,  2.60879093, 52.94837257, 16.59517603]])"
      ]
     },
     "metadata": {},
     "execution_count": 6
    }
   ],
   "source": [
    "def riccati_numeric():\n",
    "    c1 = 0.5\n",
    "    c2 = 0.5\n",
    "    g = 9.8\n",
    "    Q = np.diag([1,0,1,0])\n",
    "\n",
    "    nonzero_A = np.array([1., -c2*g/(4/3. - c2), g/(4/3. - c2), 1.], dtype=np.float32)\n",
    "    col_A = np.array([1,2,2,3])\n",
    "    row_A = np.array([0,1,3,2])\n",
    "    A = csr_matrix((nonzero_A, (row_A, col_A)),shape=(4,4),dtype=np.float32).toarray()\n",
    "    # print(A)\n",
    "    B = np.array([0,c1+c1*c2/(4/3. - c2),0,-c1/(4/3. - c2)])\n",
    "    B = np.expand_dims(B, axis=-1)\n",
    "    print(B.shape)\n",
    "    print(A.shape)\n",
    "    R = np.eye(1)\n",
    "    P = Q.copy()\n",
    "    epsilon = 1e-3\n",
    "    while True:\n",
    "        P_ = P  + epsilon*(A.transpose()@P + P.transpose()@A - P@B*R**-1@B.transpose()@P + Q)\n",
    "        if LA.norm(P_ - P, 'fro') < 1e-4:\n",
    "            break\n",
    "        else:\n",
    "            P = P_\n",
    "    print(-B.transpose()@P)\n",
    "    P_analytic = riccati_analytic(A,B,Q,R)\n",
    "    print(-B.transpose()@P_analytic)\n",
    "    K = -B.transpose()@P_analytic\n",
    "    print(K.transpose()[0][0])\n",
    "\n",
    "    print(f'A = {A}\\n B = {B}\\n A*B = {A@B}')\n",
    "    print(np.linalg.eigvals(A))\n",
    "    print(SLA.eigvals(A + B @ K))\n",
    "    return -B.transpose()@P_analytic\n",
    "\n",
    "def riccati_analytic(A,B,Q,R):\n",
    "    return SLA.solve_continuous_are(A,B,Q,R)\n",
    "\n",
    "\n",
    "riccati_numeric()"
   ]
  },
  {
   "cell_type": "code",
   "execution_count": 1,
   "metadata": {
    "tags": []
   },
   "outputs": [],
   "source": [
    "def main():\n",
    "    pygame.init()\n",
    " \n",
    "    display = (1000,750)\n",
    "    pygame.display.set_mode(display, DOUBLEBUF|OPENGL, RESIZABLE)\n",
    "\n",
    "    glRotatef(-90.,1.,0, 0)\n",
    "    glScaled(0.8, 0.8, 0.8)\n",
    "\n",
    "    env = ConfigureEnv()\n",
    "    s = CartPoleState()\n",
    "\n",
    "    while True:\n",
    "        for event in pygame.event.get():\n",
    "            if event.type == pygame.QUIT:\n",
    "                pygame.quit()\n",
    "                quit()\n",
    "            env.mouseMove(event);\n",
    "\n",
    "        glClear(GL_COLOR_BUFFER_BIT|GL_DEPTH_BUFFER_BIT)\n",
    "        \n",
    "        # calculate and update opengl\n",
    "        x, th = testMove(s)\n",
    "        draw_objects(env, x, th)\n",
    "        \n",
    "        pygame.display.flip()\n",
    "        pygame.time.wait(10)\n",
    "\n"
   ]
  },
  {
   "cell_type": "code",
   "execution_count": null,
   "metadata": {},
   "outputs": [],
   "source": [
    "main()"
   ]
  }
 ],
 "metadata": {
  "kernelspec": {
   "name": "python3",
   "display_name": "Python 3.8.10 64-bit"
  },
  "language_info": {
   "codemirror_mode": {
    "name": "ipython",
    "version": 3
   },
   "file_extension": ".py",
   "mimetype": "text/x-python",
   "name": "python",
   "nbconvert_exporter": "python",
   "pygments_lexer": "ipython3",
   "version": "3.8.10"
  },
  "interpreter": {
   "hash": "e7370f93d1d0cde622a1f8e1c04877d8463912d04d973331ad4851f04de6915a"
  }
 },
 "nbformat": 4,
 "nbformat_minor": 2
}