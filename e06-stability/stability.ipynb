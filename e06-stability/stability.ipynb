{
 "cells": [
  {
   "cell_type": "code",
   "execution_count": 1,
   "metadata": {},
   "outputs": [
    {
     "output_type": "stream",
     "name": "stdout",
     "text": [
      "pygame 2.0.1 (SDL 2.0.14, Python 3.8.10)\nHello from the pygame community. https://www.pygame.org/contribute.html\n"
     ]
    }
   ],
   "source": [
    "import sys\n",
    "\n",
    "import numpy as np\n",
    "import math\n",
    "from scipy.optimize import fsolve\n",
    "\n",
    "# python3 -m pip install pyopengl\n",
    "from OpenGL.GL import *\n",
    "from OpenGL.GLU import *\n",
    "from OpenGL.GLUT import *\n",
    "\n",
    "# python3 -m pip install pygame\n",
    "import pygame\n",
    "from pygame.locals import *\n",
    "\n",
    "from draw_object import ConfigureEnv"
   ]
  },
  {
   "cell_type": "code",
   "execution_count": 2,
   "metadata": {},
   "outputs": [],
   "source": [
    "class CartPoleState(object):\n",
    "    def __init__(self):   \n",
    "        self.x=0.\n",
    "        self.x1=0.\n",
    "        self.th=.2; \n",
    "        self.th1=0. \n",
    "\n",
    "        # init constants\n",
    "        self.tau = 1/1000.0; # with 1/1000 is better\n",
    "        Mp = 1\n",
    "        Mc = 1\n",
    "        self.l = 1\n",
    "        self.c1 = 1/(Mp+Mc)\n",
    "        self.c2 = self.l*Mp/(Mp+Mc)\n",
    "        self.g = 9.8\n",
    "\n",
    "        # change the dynamicsNoise here\n",
    "        self.dynamicsNoise = 0.\n",
    "    \n",
    "    def step(self, u):\n",
    "        the2 = self.g*math.sin(self.th) + math.cos(self.th)*(-self.c1*u-self.c2*self.th1*self.th1*math.sin(self.th));\n",
    "        the2 /= self.l*4/3 - self.c2*math.cos(self.th)*math.cos(self.th);\n",
    "        x2 = self.c1*u + self.c2*(self.th1*self.th1*math.sin(self.th) - the2*math.cos(self.th));\n",
    "        \n",
    "        self.x   += self.tau*self.x1;\n",
    "        self.x1  += self.tau*x2;\n",
    "        self.th  += self.tau*self.th1;\n",
    "        self.th1 += self.tau*the2;\n",
    "        \n",
    "        if self.dynamicsNoise:\n",
    "            self.x1 += self.dynamicsNoise*np.random.normal(0,1);\n",
    "            self.th1 += self.dynamicsNoise*np.random.normal(0,1);\n"
   ]
  },
  {
   "cell_type": "code",
   "execution_count": 3,
   "metadata": {},
   "outputs": [],
   "source": [
    "def draw_objects(env, x, theta):\n",
    "    # draw guide lines\n",
    "    env.draw_line()  \n",
    "\n",
    "    # cart\n",
    "    glColor3f(1,1,1); \n",
    "    glPushMatrix()\n",
    "    glTranslatef(x, 0., 0.)\n",
    "    env.draw_cube(1., 0.2, 0.2)  \n",
    "    env.draw_line2()\n",
    "    \n",
    "    # pole\n",
    "    glColor3f(1,0,0); \n",
    "    glPushMatrix()\n",
    "    glRotatef(theta*180./math.pi, 0., 1., 0.)\n",
    "    glTranslatef(0, 0., 0.5)\n",
    "    env.draw_cube(0.1, 0.1, 1.)  \n",
    "    \n",
    "    glPopMatrix()\n",
    "    glPopMatrix()\n",
    "    "
   ]
  },
  {
   "cell_type": "code",
   "execution_count": 4,
   "metadata": {},
   "outputs": [],
   "source": [
    "def testMove(s, w):\n",
    "    #\n",
    "    u = w[0]*s.x + w[1]*s.x1 + w[2]*s.th + w[3]*s.th1;\n",
    "    s.step(u)\n",
    "    \n",
    "    # return translation x and rotation theta\n",
    "    return s.x, s.th"
   ]
  },
  {
   "cell_type": "code",
   "execution_count": 5,
   "metadata": {},
   "outputs": [],
   "source": [
    "def computeW(l1, l2, l3, l4):\n",
    "    # initialize w\n",
    "    w = np.zeros(4)\n",
    "    #0.8w2-0.6w4 = l1+..+l4 = tr(A~)\n",
    "    #0.8w1*(11.76-0.6w3) + (0.8w3-5.88)*0.6w1 = l1*..*l4 = det(A~)\n",
    "    def delta1(ws, l):\n",
    "        return (0.6 * ws[3] + l) * l - (11.76 - 0.6 * ws[2])\n",
    "    def delta2(ws, l):\n",
    "        return 0.8 * ws[2] - 5.88 + l * 0.8 * ws[3]\n",
    "    def func(ws, l):\n",
    "        return 0.8 * ws[0] * delta1(ws, l) - 0.6 * ws[0] * delta2(ws, l)\\\n",
    "               + l * (0.8 * w[1] - l) * delta1(ws, l) \\\n",
    "               - l * 0.6 * ws[1] * delta2(ws,l)\n",
    "\n",
    "    def fun(ws):\n",
    "        return [ func(ws,l1), func(ws, l2), func(ws, l3), func(ws,l4)]\n",
    "    root = fsolve(fun, np.array([1,2.6,53,16]), full_output=False)\n",
    "    for i in range(5):\n",
    "        root_ = fsolve(fun, root)\n",
    "        root = root_\n",
    "    print(root)\n",
    "    w = np.array(root)\n",
    "    \n",
    "    return w"
   ]
  },
  {
   "cell_type": "code",
   "execution_count": 6,
   "metadata": {},
   "outputs": [
    {
     "output_type": "stream",
     "name": "stdout",
     "text": [
      "lambdas should be [-10.         -3.        -10.5447993  -0.4552007]\n[ 24.48979592   3.63434546 232.28733979  40.        ]\n[ 24.48979592   3.63434546 232.28733979  40.        ]\n"
     ]
    },
    {
     "output_type": "error",
     "ename": "error",
     "evalue": "video system not initialized",
     "traceback": [
      "\u001b[0;31m---------------------------------------------------------------------------\u001b[0m",
      "\u001b[0;31merror\u001b[0m                                     Traceback (most recent call last)",
      "\u001b[0;32m<ipython-input-6-34f7cb9ac135>\u001b[0m in \u001b[0;36m<module>\u001b[0;34m\u001b[0m\n\u001b[1;32m     41\u001b[0m         \u001b[0mpygame\u001b[0m\u001b[0;34m.\u001b[0m\u001b[0mtime\u001b[0m\u001b[0;34m.\u001b[0m\u001b[0mwait\u001b[0m\u001b[0;34m(\u001b[0m\u001b[0;36m10\u001b[0m\u001b[0;34m)\u001b[0m\u001b[0;34m\u001b[0m\u001b[0;34m\u001b[0m\u001b[0m\n\u001b[1;32m     42\u001b[0m \u001b[0;34m\u001b[0m\u001b[0m\n\u001b[0;32m---> 43\u001b[0;31m \u001b[0mmain\u001b[0m\u001b[0;34m(\u001b[0m\u001b[0;34m)\u001b[0m\u001b[0;34m\u001b[0m\u001b[0;34m\u001b[0m\u001b[0m\n\u001b[0m",
      "\u001b[0;32m<ipython-input-6-34f7cb9ac135>\u001b[0m in \u001b[0;36mmain\u001b[0;34m()\u001b[0m\n\u001b[1;32m     38\u001b[0m         \u001b[0mdraw_objects\u001b[0m\u001b[0;34m(\u001b[0m\u001b[0menv\u001b[0m\u001b[0;34m,\u001b[0m \u001b[0mx\u001b[0m\u001b[0;34m,\u001b[0m \u001b[0mth\u001b[0m\u001b[0;34m)\u001b[0m\u001b[0;34m\u001b[0m\u001b[0;34m\u001b[0m\u001b[0m\n\u001b[1;32m     39\u001b[0m \u001b[0;34m\u001b[0m\u001b[0m\n\u001b[0;32m---> 40\u001b[0;31m         \u001b[0mpygame\u001b[0m\u001b[0;34m.\u001b[0m\u001b[0mdisplay\u001b[0m\u001b[0;34m.\u001b[0m\u001b[0mflip\u001b[0m\u001b[0;34m(\u001b[0m\u001b[0;34m)\u001b[0m\u001b[0;34m\u001b[0m\u001b[0;34m\u001b[0m\u001b[0m\n\u001b[0m\u001b[1;32m     41\u001b[0m         \u001b[0mpygame\u001b[0m\u001b[0;34m.\u001b[0m\u001b[0mtime\u001b[0m\u001b[0;34m.\u001b[0m\u001b[0mwait\u001b[0m\u001b[0;34m(\u001b[0m\u001b[0;36m10\u001b[0m\u001b[0;34m)\u001b[0m\u001b[0;34m\u001b[0m\u001b[0;34m\u001b[0m\u001b[0m\n\u001b[1;32m     42\u001b[0m \u001b[0;34m\u001b[0m\u001b[0m\n",
      "\u001b[0;31merror\u001b[0m: video system not initialized"
     ]
    }
   ],
   "source": [
    "def main():\n",
    "    pygame.init()\n",
    " \n",
    "    display = (1000,750)\n",
    "    pygame.display.set_mode(display, DOUBLEBUF|OPENGL, RESIZABLE)\n",
    "\n",
    "    glRotatef(-90.,1.,0, 0)\n",
    "    glScaled(0.8, 0.8, 0.8);\n",
    "\n",
    "    env = ConfigureEnv()\n",
    "    s = CartPoleState()\n",
    "    \n",
    "    # set eigenvalues\n",
    "    lambda1 = -1\n",
    "    lambda2 = -1\n",
    "    lambda3 = -1\n",
    "    lambda4 = -1\n",
    "    # tr(A)^2 - 4 * det(A) == 0\n",
    "    def constraint(l):\n",
    "        return [l[0] + 10, l[1] + 3, np.sum(l) + 24, pow(np.sum(l), 2) - 4 * np.prod(l)]\n",
    "    ls = fsolve(constraint, np.array([-1,-.5,-2,0]))\n",
    "    print(f'lambdas should be {ls}')\n",
    "\n",
    "    w = computeW(ls[0], ls[1], ls[2], ls[3])\n",
    "    print(w)\n",
    "\n",
    "    while True:\n",
    "        for event in pygame.event.get():\n",
    "            if event.type == pygame.QUIT:\n",
    "                pygame.quit()\n",
    "                quit()\n",
    "            env.mouseMove(event);\n",
    "\n",
    "        glClear(GL_COLOR_BUFFER_BIT|GL_DEPTH_BUFFER_BIT)\n",
    "        \n",
    "        # calculate and update opengl\n",
    "        x, th = testMove(s, w)\n",
    "        draw_objects(env, x, th)\n",
    "        \n",
    "        pygame.display.flip()\n",
    "        pygame.time.wait(10)\n",
    "\n",
    "main()"
   ]
  },
  {
   "cell_type": "code",
   "execution_count": null,
   "metadata": {},
   "outputs": [],
   "source": []
  }
 ],
 "metadata": {
  "kernelspec": {
   "name": "python3",
   "display_name": "Python 3.8.10 64-bit"
  },
  "language_info": {
   "codemirror_mode": {
    "name": "ipython",
    "version": 3
   },
   "file_extension": ".py",
   "mimetype": "text/x-python",
   "name": "python",
   "nbconvert_exporter": "python",
   "pygments_lexer": "ipython3",
   "version": "3.8.10"
  },
  "interpreter": {
   "hash": "e7370f93d1d0cde622a1f8e1c04877d8463912d04d973331ad4851f04de6915a"
  }
 },
 "nbformat": 4,
 "nbformat_minor": 2
}